{
  "nbformat": 4,
  "nbformat_minor": 0,
  "metadata": {
    "colab": {
      "provenance": [],
      "authorship_tag": "ABX9TyMZn8ti5eClOfEOTkQ9FXhp",
      "include_colab_link": true
    },
    "kernelspec": {
      "name": "python3",
      "display_name": "Python 3"
    },
    "language_info": {
      "name": "python"
    }
  },
  "cells": [
    {
      "cell_type": "markdown",
      "metadata": {
        "id": "view-in-github",
        "colab_type": "text"
      },
      "source": [
        "<a href=\"https://colab.research.google.com/github/ananyakaligal/My-Machine-Learning-Journey/blob/main/CNN_MNIST%40.ipynb\" target=\"_parent\"><img src=\"https://colab.research.google.com/assets/colab-badge.svg\" alt=\"Open In Colab\"/></a>"
      ]
    },
    {
      "cell_type": "code",
      "execution_count": 2,
      "metadata": {
        "colab": {
          "base_uri": "https://localhost:8080/"
        },
        "id": "KjGgpi5qeCsE",
        "outputId": "7d314141-be73-486e-e644-6264d7faa436"
      },
      "outputs": [
        {
          "output_type": "stream",
          "name": "stdout",
          "text": [
            "Requirement already satisfied: tensorflow in /usr/local/lib/python3.10/dist-packages (2.15.0)\n",
            "Requirement already satisfied: absl-py>=1.0.0 in /usr/local/lib/python3.10/dist-packages (from tensorflow) (1.4.0)\n",
            "Requirement already satisfied: astunparse>=1.6.0 in /usr/local/lib/python3.10/dist-packages (from tensorflow) (1.6.3)\n",
            "Requirement already satisfied: flatbuffers>=23.5.26 in /usr/local/lib/python3.10/dist-packages (from tensorflow) (24.3.25)\n",
            "Requirement already satisfied: gast!=0.5.0,!=0.5.1,!=0.5.2,>=0.2.1 in /usr/local/lib/python3.10/dist-packages (from tensorflow) (0.5.4)\n",
            "Requirement already satisfied: google-pasta>=0.1.1 in /usr/local/lib/python3.10/dist-packages (from tensorflow) (0.2.0)\n",
            "Requirement already satisfied: h5py>=2.9.0 in /usr/local/lib/python3.10/dist-packages (from tensorflow) (3.9.0)\n",
            "Requirement already satisfied: libclang>=13.0.0 in /usr/local/lib/python3.10/dist-packages (from tensorflow) (18.1.1)\n",
            "Requirement already satisfied: ml-dtypes~=0.2.0 in /usr/local/lib/python3.10/dist-packages (from tensorflow) (0.2.0)\n",
            "Requirement already satisfied: numpy<2.0.0,>=1.23.5 in /usr/local/lib/python3.10/dist-packages (from tensorflow) (1.25.2)\n",
            "Requirement already satisfied: opt-einsum>=2.3.2 in /usr/local/lib/python3.10/dist-packages (from tensorflow) (3.3.0)\n",
            "Requirement already satisfied: packaging in /usr/local/lib/python3.10/dist-packages (from tensorflow) (24.0)\n",
            "Requirement already satisfied: protobuf!=4.21.0,!=4.21.1,!=4.21.2,!=4.21.3,!=4.21.4,!=4.21.5,<5.0.0dev,>=3.20.3 in /usr/local/lib/python3.10/dist-packages (from tensorflow) (3.20.3)\n",
            "Requirement already satisfied: setuptools in /usr/local/lib/python3.10/dist-packages (from tensorflow) (67.7.2)\n",
            "Requirement already satisfied: six>=1.12.0 in /usr/local/lib/python3.10/dist-packages (from tensorflow) (1.16.0)\n",
            "Requirement already satisfied: termcolor>=1.1.0 in /usr/local/lib/python3.10/dist-packages (from tensorflow) (2.4.0)\n",
            "Requirement already satisfied: typing-extensions>=3.6.6 in /usr/local/lib/python3.10/dist-packages (from tensorflow) (4.11.0)\n",
            "Requirement already satisfied: wrapt<1.15,>=1.11.0 in /usr/local/lib/python3.10/dist-packages (from tensorflow) (1.14.1)\n",
            "Requirement already satisfied: tensorflow-io-gcs-filesystem>=0.23.1 in /usr/local/lib/python3.10/dist-packages (from tensorflow) (0.37.0)\n",
            "Requirement already satisfied: grpcio<2.0,>=1.24.3 in /usr/local/lib/python3.10/dist-packages (from tensorflow) (1.63.0)\n",
            "Requirement already satisfied: tensorboard<2.16,>=2.15 in /usr/local/lib/python3.10/dist-packages (from tensorflow) (2.15.2)\n",
            "Requirement already satisfied: tensorflow-estimator<2.16,>=2.15.0 in /usr/local/lib/python3.10/dist-packages (from tensorflow) (2.15.0)\n",
            "Requirement already satisfied: keras<2.16,>=2.15.0 in /usr/local/lib/python3.10/dist-packages (from tensorflow) (2.15.0)\n",
            "Requirement already satisfied: wheel<1.0,>=0.23.0 in /usr/local/lib/python3.10/dist-packages (from astunparse>=1.6.0->tensorflow) (0.43.0)\n",
            "Requirement already satisfied: google-auth<3,>=1.6.3 in /usr/local/lib/python3.10/dist-packages (from tensorboard<2.16,>=2.15->tensorflow) (2.27.0)\n",
            "Requirement already satisfied: google-auth-oauthlib<2,>=0.5 in /usr/local/lib/python3.10/dist-packages (from tensorboard<2.16,>=2.15->tensorflow) (1.2.0)\n",
            "Requirement already satisfied: markdown>=2.6.8 in /usr/local/lib/python3.10/dist-packages (from tensorboard<2.16,>=2.15->tensorflow) (3.6)\n",
            "Requirement already satisfied: requests<3,>=2.21.0 in /usr/local/lib/python3.10/dist-packages (from tensorboard<2.16,>=2.15->tensorflow) (2.31.0)\n",
            "Requirement already satisfied: tensorboard-data-server<0.8.0,>=0.7.0 in /usr/local/lib/python3.10/dist-packages (from tensorboard<2.16,>=2.15->tensorflow) (0.7.2)\n",
            "Requirement already satisfied: werkzeug>=1.0.1 in /usr/local/lib/python3.10/dist-packages (from tensorboard<2.16,>=2.15->tensorflow) (3.0.2)\n",
            "Requirement already satisfied: cachetools<6.0,>=2.0.0 in /usr/local/lib/python3.10/dist-packages (from google-auth<3,>=1.6.3->tensorboard<2.16,>=2.15->tensorflow) (5.3.3)\n",
            "Requirement already satisfied: pyasn1-modules>=0.2.1 in /usr/local/lib/python3.10/dist-packages (from google-auth<3,>=1.6.3->tensorboard<2.16,>=2.15->tensorflow) (0.4.0)\n",
            "Requirement already satisfied: rsa<5,>=3.1.4 in /usr/local/lib/python3.10/dist-packages (from google-auth<3,>=1.6.3->tensorboard<2.16,>=2.15->tensorflow) (4.9)\n",
            "Requirement already satisfied: requests-oauthlib>=0.7.0 in /usr/local/lib/python3.10/dist-packages (from google-auth-oauthlib<2,>=0.5->tensorboard<2.16,>=2.15->tensorflow) (1.3.1)\n",
            "Requirement already satisfied: charset-normalizer<4,>=2 in /usr/local/lib/python3.10/dist-packages (from requests<3,>=2.21.0->tensorboard<2.16,>=2.15->tensorflow) (3.3.2)\n",
            "Requirement already satisfied: idna<4,>=2.5 in /usr/local/lib/python3.10/dist-packages (from requests<3,>=2.21.0->tensorboard<2.16,>=2.15->tensorflow) (3.7)\n",
            "Requirement already satisfied: urllib3<3,>=1.21.1 in /usr/local/lib/python3.10/dist-packages (from requests<3,>=2.21.0->tensorboard<2.16,>=2.15->tensorflow) (2.0.7)\n",
            "Requirement already satisfied: certifi>=2017.4.17 in /usr/local/lib/python3.10/dist-packages (from requests<3,>=2.21.0->tensorboard<2.16,>=2.15->tensorflow) (2024.2.2)\n",
            "Requirement already satisfied: MarkupSafe>=2.1.1 in /usr/local/lib/python3.10/dist-packages (from werkzeug>=1.0.1->tensorboard<2.16,>=2.15->tensorflow) (2.1.5)\n",
            "Requirement already satisfied: pyasn1<0.7.0,>=0.4.6 in /usr/local/lib/python3.10/dist-packages (from pyasn1-modules>=0.2.1->google-auth<3,>=1.6.3->tensorboard<2.16,>=2.15->tensorflow) (0.6.0)\n",
            "Requirement already satisfied: oauthlib>=3.0.0 in /usr/local/lib/python3.10/dist-packages (from requests-oauthlib>=0.7.0->google-auth-oauthlib<2,>=0.5->tensorboard<2.16,>=2.15->tensorflow) (3.2.2)\n"
          ]
        }
      ],
      "source": [
        "!pip install tensorflow"
      ]
    },
    {
      "cell_type": "code",
      "source": [
        "import tensorflow as tf\n",
        "import numpy as np\n",
        "from tensorflow.keras.utils import to_categorical\n",
        "from tensorflow.keras import layers, models\n",
        "import time"
      ],
      "metadata": {
        "id": "MhDXEFGIeEPh"
      },
      "execution_count": 3,
      "outputs": []
    },
    {
      "cell_type": "code",
      "source": [
        "# Define constants\n",
        "batchSize = 16\n",
        "numEpochs = 5\n",
        "trainToLoss = 0.0001\n",
        "bsr = 0.25\n",
        "lrr = 1.0"
      ],
      "metadata": {
        "id": "aACaqs9feGP8"
      },
      "execution_count": 40,
      "outputs": []
    },
    {
      "cell_type": "code",
      "source": [
        "def get_mnist_data(train_samples=None, test_samples=None):\n",
        "    mnist = tf.keras.datasets.mnist\n",
        "    (x_train, y_train), (x_test, y_test) = mnist.load_data()\n",
        "\n",
        "    # Normalize the pixel values to be between 0 and 1\n",
        "    x_train = x_train.astype('float32') / 255.0\n",
        "    x_test = x_test.astype('float32') / 255.0\n",
        "\n",
        "    # Flatten the images\n",
        "    x_train = x_train.reshape(-1, 28,28,1)\n",
        "    x_test = x_test.reshape(-1, 28 ,28, 1)\n",
        "\n",
        "    # Convert labels to one-hot encoding\n",
        "    y_train_one_hot = to_categorical(y_train, 10)\n",
        "    y_test_one_hot = to_categorical(y_test, 10)\n",
        "\n",
        "    # Select a subset of the data\n",
        "    x_train_subset = x_train[:2000]\n",
        "    y_train_one_hot_subset = y_train_one_hot[:2000]\n",
        "    x_test_subset = x_test[:250]\n",
        "    y_test_one_hot_subset = y_test_one_hot[:250]\n",
        "\n",
        "    return (x_train_subset.flatten().tolist(), y_train_one_hot_subset.flatten().tolist(),\n",
        "            x_test_subset.flatten().tolist(), y_test_one_hot_subset.flatten().tolist())"
      ],
      "metadata": {
        "id": "2axCu7JDeKlu"
      },
      "execution_count": 5,
      "outputs": []
    },
    {
      "cell_type": "code",
      "source": [
        "# Example usage\n",
        "x_train_flattened, y_train_flattened, x_test_flattened, y_test_flattened = get_mnist_data()\n",
        "print(f'x_train_flattened length: {len(x_train_flattened)}')\n",
        "print(f'y_train_flattened length: {len(y_train_flattened)}')\n",
        "print(f'x_test_flattened length: {len(x_test_flattened)}')\n",
        "print(f'y_test_flattened length: {len(y_test_flattened)}')\n"
      ],
      "metadata": {
        "colab": {
          "base_uri": "https://localhost:8080/"
        },
        "id": "133b_221etPk",
        "outputId": "3032ba38-0c4e-4292-ffb2-2242ca657a5e"
      },
      "execution_count": 6,
      "outputs": [
        {
          "output_type": "stream",
          "name": "stdout",
          "text": [
            "Downloading data from https://storage.googleapis.com/tensorflow/tf-keras-datasets/mnist.npz\n",
            "11490434/11490434 [==============================] - 0s 0us/step\n",
            "x_train_flattened length: 1568000\n",
            "y_train_flattened length: 20000\n",
            "x_test_flattened length: 196000\n",
            "y_test_flattened length: 2500\n"
          ]
        }
      ]
    },
    {
      "cell_type": "code",
      "source": [
        "# Print samples from the flattened data\n",
        "print(\"Sample of x_train_flattened:\", x_train_flattened[:100])\n",
        "print(\"Sample of y_train_flattened:\", y_train_flattened[:100])"
      ],
      "metadata": {
        "colab": {
          "base_uri": "https://localhost:8080/"
        },
        "id": "rhYrUrClGMt1",
        "outputId": "4af8c806-39a8-4ceb-ea3b-6311ae9af3eb"
      },
      "execution_count": 7,
      "outputs": [
        {
          "output_type": "stream",
          "name": "stdout",
          "text": [
            "Sample of x_train_flattened: [0.0, 0.0, 0.0, 0.0, 0.0, 0.0, 0.0, 0.0, 0.0, 0.0, 0.0, 0.0, 0.0, 0.0, 0.0, 0.0, 0.0, 0.0, 0.0, 0.0, 0.0, 0.0, 0.0, 0.0, 0.0, 0.0, 0.0, 0.0, 0.0, 0.0, 0.0, 0.0, 0.0, 0.0, 0.0, 0.0, 0.0, 0.0, 0.0, 0.0, 0.0, 0.0, 0.0, 0.0, 0.0, 0.0, 0.0, 0.0, 0.0, 0.0, 0.0, 0.0, 0.0, 0.0, 0.0, 0.0, 0.0, 0.0, 0.0, 0.0, 0.0, 0.0, 0.0, 0.0, 0.0, 0.0, 0.0, 0.0, 0.0, 0.0, 0.0, 0.0, 0.0, 0.0, 0.0, 0.0, 0.0, 0.0, 0.0, 0.0, 0.0, 0.0, 0.0, 0.0, 0.0, 0.0, 0.0, 0.0, 0.0, 0.0, 0.0, 0.0, 0.0, 0.0, 0.0, 0.0, 0.0, 0.0, 0.0, 0.0]\n",
            "Sample of y_train_flattened: [0.0, 0.0, 0.0, 0.0, 0.0, 1.0, 0.0, 0.0, 0.0, 0.0, 1.0, 0.0, 0.0, 0.0, 0.0, 0.0, 0.0, 0.0, 0.0, 0.0, 0.0, 0.0, 0.0, 0.0, 1.0, 0.0, 0.0, 0.0, 0.0, 0.0, 0.0, 1.0, 0.0, 0.0, 0.0, 0.0, 0.0, 0.0, 0.0, 0.0, 0.0, 0.0, 0.0, 0.0, 0.0, 0.0, 0.0, 0.0, 0.0, 1.0, 0.0, 0.0, 1.0, 0.0, 0.0, 0.0, 0.0, 0.0, 0.0, 0.0, 0.0, 1.0, 0.0, 0.0, 0.0, 0.0, 0.0, 0.0, 0.0, 0.0, 0.0, 0.0, 0.0, 1.0, 0.0, 0.0, 0.0, 0.0, 0.0, 0.0, 0.0, 1.0, 0.0, 0.0, 0.0, 0.0, 0.0, 0.0, 0.0, 0.0, 0.0, 0.0, 0.0, 0.0, 1.0, 0.0, 0.0, 0.0, 0.0, 0.0]\n"
          ]
        }
      ]
    },
    {
      "cell_type": "code",
      "source": [
        "def format_data(data, batch_size, height, width):\n",
        "    indices = []\n",
        "    values = []\n",
        "\n",
        "    # Convert the data list to a NumPy array if not already, in ecl you create a record\n",
        "    data = np.array(data)\n",
        "\n",
        "    # Calculate expected length\n",
        "    expected_length = batch_size * height * width\n",
        "    if data.size != expected_length:\n",
        "        raise ValueError(\"Data length does not match expected dimensions\")\n",
        "\n",
        "    # Iterate through each dimension\n",
        "    for i in range(batch_size):\n",
        "        for row in range(height):\n",
        "            for col in range(width):\n",
        "                index = (i * height * width) + (row * width + col)\n",
        "                indices.append([i+1, row+1, col+1])  #ECL indicing starts from 1\n",
        "                values.append(float(data[index]))\n",
        "\n",
        "    return np.array(indices), np.array(values)"
      ],
      "metadata": {
        "id": "f5t-xzfte_41"
      },
      "execution_count": 8,
      "outputs": []
    },
    {
      "cell_type": "code",
      "source": [
        "# Formatting data\n",
        "formatted_x_train_indices, formatted_x_train_values = format_data(x_train_flattened,2000,28,28)\n",
        "formatted_x_test_indices, formatted_x_test_values = format_data(x_test_flattened,250,28,28)"
      ],
      "metadata": {
        "id": "NgoE1I0MfHnN"
      },
      "execution_count": 20,
      "outputs": []
    },
    {
      "cell_type": "code",
      "source": [
        " # Check shapes\n",
        "print(\"Shape of formatted_x_train_indices:\", formatted_x_train_indices.shape)\n",
        "print(\"Shape of formatted_x_test_values:\", formatted_x_test_values.shape)"
      ],
      "metadata": {
        "colab": {
          "base_uri": "https://localhost:8080/"
        },
        "id": "lnaiAcKyp-rn",
        "outputId": "3bd439fa-a433-407c-c9c6-4e8408dcac2a"
      },
      "execution_count": 21,
      "outputs": [
        {
          "output_type": "stream",
          "name": "stdout",
          "text": [
            "Shape of formatted_x_train_indices: (1568000, 3)\n",
            "Shape of formatted_x_test_values: (196000,)\n"
          ]
        }
      ]
    },
    {
      "cell_type": "code",
      "source": [
        "# Define a function to print samples of the formatted data\n",
        "def print_sample(indices, values, sample_size=30):\n",
        "    for i in range(sample_size):\n",
        "        print(f\"Indices: {indices[i]}, Value: {values[i]}\")\n",
        "\n",
        "# Print samples\n",
        "print(\"Sample of train_indices and train_values:\")\n",
        "print_sample(formatted_x_train_indices, formatted_x_train_values)"
      ],
      "metadata": {
        "colab": {
          "base_uri": "https://localhost:8080/"
        },
        "id": "OnyYA9wfeeke",
        "outputId": "79214ee3-b209-48f1-f15a-8d75ea343f1e"
      },
      "execution_count": 22,
      "outputs": [
        {
          "output_type": "stream",
          "name": "stdout",
          "text": [
            "Sample of train_indices and train_values:\n",
            "Indices: [1 1 1], Value: 0.0\n",
            "Indices: [1 1 2], Value: 0.0\n",
            "Indices: [1 1 3], Value: 0.0\n",
            "Indices: [1 1 4], Value: 0.0\n",
            "Indices: [1 1 5], Value: 0.0\n",
            "Indices: [1 1 6], Value: 0.0\n",
            "Indices: [1 1 7], Value: 0.0\n",
            "Indices: [1 1 8], Value: 0.0\n",
            "Indices: [1 1 9], Value: 0.0\n",
            "Indices: [ 1  1 10], Value: 0.0\n",
            "Indices: [ 1  1 11], Value: 0.0\n",
            "Indices: [ 1  1 12], Value: 0.0\n",
            "Indices: [ 1  1 13], Value: 0.0\n",
            "Indices: [ 1  1 14], Value: 0.0\n",
            "Indices: [ 1  1 15], Value: 0.0\n",
            "Indices: [ 1  1 16], Value: 0.0\n",
            "Indices: [ 1  1 17], Value: 0.0\n",
            "Indices: [ 1  1 18], Value: 0.0\n",
            "Indices: [ 1  1 19], Value: 0.0\n",
            "Indices: [ 1  1 20], Value: 0.0\n",
            "Indices: [ 1  1 21], Value: 0.0\n",
            "Indices: [ 1  1 22], Value: 0.0\n",
            "Indices: [ 1  1 23], Value: 0.0\n",
            "Indices: [ 1  1 24], Value: 0.0\n",
            "Indices: [ 1  1 25], Value: 0.0\n",
            "Indices: [ 1  1 26], Value: 0.0\n",
            "Indices: [ 1  1 27], Value: 0.0\n",
            "Indices: [ 1  1 28], Value: 0.0\n",
            "Indices: [1 2 1], Value: 0.0\n",
            "Indices: [1 2 2], Value: 0.0\n"
          ]
        }
      ]
    },
    {
      "cell_type": "code",
      "source": [
        "def convert_to_tensor(indices, values, shape):\n",
        "    \"\"\"\n",
        "    Convert lists of indices and values to a TensorFlow tensor.\n",
        "\n",
        "    Parameters:\n",
        "    indices (list of lists): List of indices, where each entry is [batch, row, col, channel].\n",
        "    values (list): List of values corresponding to each index.\n",
        "    shape (tuple): Shape of the resulting tensor.\n",
        "\n",
        "    Returns:\n",
        "    tf.Tensor: Tensor populated with values at specified indices.\n",
        "    \"\"\"\n",
        "    # Convert indices from 1-based to 0-based\n",
        "    zero_based_indices = [np.array(idx) - 1 for idx in indices]\n",
        "\n",
        "    # Convert indices and values to sparse tensor\n",
        "    indices = np.array(zero_based_indices)\n",
        "    values = np.array(values)\n",
        "\n",
        "    # Create a sparse tensor\n",
        "    sparse_tensor = tf.sparse.SparseTensor(\n",
        "        indices=indices,\n",
        "        values=values,\n",
        "        dense_shape=shape\n",
        "    )\n",
        "\n",
        "    # Convert sparse tensor to dense tensor\n",
        "    dense_tensor = tf.sparse.to_dense(sparse_tensor)\n",
        "\n",
        "    return dense_tensor"
      ],
      "metadata": {
        "id": "VpnYCLnoj9B5"
      },
      "execution_count": 23,
      "outputs": []
    },
    {
      "cell_type": "code",
      "source": [
        "# Define the shape of the tensor\n",
        "shape1 = (2000, 28, 28)  # Adjust according to your tensor's dimensions\n",
        "shape2 = (250, 28, 28)\n",
        "\n",
        "# Convert to tensor\n",
        "X_traintensor = convert_to_tensor(formatted_x_train_indices, formatted_x_train_values, shape1)\n",
        "\n",
        "# Convert to tensor\n",
        "X_testtensor = convert_to_tensor(formatted_x_test_indices, formatted_x_test_values, shape2)"
      ],
      "metadata": {
        "id": "jldCEpf0nbmW"
      },
      "execution_count": 25,
      "outputs": []
    },
    {
      "cell_type": "code",
      "source": [
        "##Format yTrain and yTest\n",
        "def format_data(data, batch_size, height, width):\n",
        "    indices = []\n",
        "    values = []\n",
        "\n",
        "    # Convert the data list to a NumPy array if not already, in ecl you create a record\n",
        "    data = np.array(data)\n",
        "\n",
        "    # Calculate expected length\n",
        "    expected_length = batch_size * height * width\n",
        "    if data.size != expected_length:\n",
        "        raise ValueError(\"Data length does not match expected dimensions\")\n",
        "\n",
        "    # Iterate through each dimension\n",
        "    for i in range(batch_size):\n",
        "        for row in range(height):\n",
        "            for col in range(width):\n",
        "                index = (i * height * width) + (row * width + col)\n",
        "                indices.append([i+1, row+1, col+1])  #ECL indicing starts from 1\n",
        "                values.append(float(data[index]))\n",
        "\n",
        "    return np.array(indices), np.array(values)"
      ],
      "metadata": {
        "id": "cDqHcSuTo4U6"
      },
      "execution_count": 26,
      "outputs": []
    },
    {
      "cell_type": "code",
      "source": [],
      "metadata": {
        "id": "Hi2HL-aio4Ho"
      },
      "execution_count": null,
      "outputs": []
    },
    {
      "cell_type": "code",
      "source": [
        "\n",
        "def format_data_Y(data):\n",
        "    \"\"\"\n",
        "    Convert 1-dimensional data to indices and values.\n",
        "\n",
        "    Parameters:\n",
        "    data (list or np.array): 1D array of data values.\n",
        "\n",
        "    Returns:\n",
        "    np.array: Array of indices starting from 1.\n",
        "    np.array: Array of values.\n",
        "    \"\"\"\n",
        "    # Ensure the data is a NumPy array\n",
        "    data = np.array(data)\n",
        "\n",
        "    # Create indices starting from 1\n",
        "    indices = np.arange(1, len(data) + 1)\n",
        "\n",
        "    # Convert data values to float\n",
        "    values = data.astype(float)\n",
        "\n",
        "    return indices, values\n",
        "\n",
        "formatted_y_train_indices, formatted_y_train_values = format_data_Y(y_train_flattened)\n",
        "formatted_y_test_indices, formatted_y_test_values = format_data_Y(y_test_flattened)\n",
        "\n",
        "# Print a sample\n",
        "print(\"Sample indices (1-based):\", formatted_y_train_indices[:10])\n",
        "print(\"Sample values:\", formatted_y_train_values[:10])"
      ],
      "metadata": {
        "colab": {
          "base_uri": "https://localhost:8080/"
        },
        "id": "R8NeylL3o3-y",
        "outputId": "f2fd8ce6-97b5-4c42-b0ea-d18685f9bea8"
      },
      "execution_count": 27,
      "outputs": [
        {
          "output_type": "stream",
          "name": "stdout",
          "text": [
            "Sample indices (1-based): [ 1  2  3  4  5  6  7  8  9 10]\n",
            "Sample values: [0. 0. 0. 0. 0. 1. 0. 0. 0. 0.]\n"
          ]
        }
      ]
    },
    {
      "cell_type": "code",
      "source": [
        "def convert_to_tensorY(indices, values, shape):\n",
        "    \"\"\"\n",
        "    Convert lists of 1D indices and values to a TensorFlow tensor with shape (x, y).\n",
        "\n",
        "    Parameters:\n",
        "    indices (list): List of 1D indices starting from 1.\n",
        "    values (list): List of values corresponding to each index.\n",
        "    shape (tuple): Shape of the resulting tensor (x, y).\n",
        "\n",
        "    Returns:\n",
        "    tf.Tensor: Tensor populated with values at specified indices.\n",
        "    \"\"\"\n",
        "    rows, cols = shape\n",
        "\n",
        "    # Convert 1-based indices to 0-based indices\n",
        "    zero_based_indices = [(index // cols, index % cols) for index in (i - 1 for i in indices)]\n",
        "\n",
        "    # Check for out-of-bounds indices\n",
        "    for idx in zero_based_indices:\n",
        "        if not (0 <= idx[0] < rows and 0 <= idx[1] < cols):\n",
        "            raise ValueError(f\"Index {idx} is out of bounds for shape {shape}\")\n",
        "\n",
        "    # Convert 2D indices to numpy array\n",
        "    indices_np = np.array(zero_based_indices)\n",
        "    values_np = np.array(values)\n",
        "\n",
        "    # Create a sparse tensor\n",
        "    sparse_tensor = tf.sparse.SparseTensor(\n",
        "        indices=indices_np,\n",
        "        values=values_np,\n",
        "        dense_shape=shape\n",
        "    )\n",
        "\n",
        "    # Convert sparse tensor to dense tensor\n",
        "    dense_tensor = tf.sparse.to_dense(sparse_tensor)\n",
        "\n",
        "    return dense_tensor"
      ],
      "metadata": {
        "id": "2DIZ_5JRs3ZZ"
      },
      "execution_count": 36,
      "outputs": []
    },
    {
      "cell_type": "code",
      "source": [
        "# Define the shape of the tensor\n",
        "shapeY1 = (2000, 10)  # Adjust according to your tensor's dimensions\n",
        "shapeY2 = (250, 10)\n",
        "\n",
        "# Convert to tensor\n",
        "Y_traintensor = convert_to_tensorY(formatted_y_train_indices, formatted_y_train_values, shapeY1)\n",
        "\n",
        "# Convert to tensor\n",
        "Y_testtensor = convert_to_tensorY(formatted_y_test_indices, formatted_y_test_values, shapeY2)"
      ],
      "metadata": {
        "id": "K_eReDKwrfhz"
      },
      "execution_count": 37,
      "outputs": []
    },
    {
      "cell_type": "code",
      "source": [
        "# Define the CNN model\n",
        "def create_cnn_model():\n",
        "    model = models.Sequential()\n",
        "\n",
        "    # Add layers according to the provided architecture\n",
        "    model.add(layers.Conv2D(32, (3, 3), input_shape=(28, 28, 1)))\n",
        "    model.add(layers.BatchNormalization())\n",
        "    model.add(layers.Activation('relu'))\n",
        "    model.add(layers.MaxPooling2D(pool_size=(2, 2)))\n",
        "\n",
        "    model.add(layers.Conv2D(64, (3, 3)))\n",
        "    model.add(layers.BatchNormalization())\n",
        "    model.add(layers.Activation('relu'))\n",
        "    model.add(layers.MaxPooling2D(pool_size=(2, 2)))\n",
        "\n",
        "    model.add(layers.Conv2D(128, (3, 3)))\n",
        "    model.add(layers.BatchNormalization())\n",
        "    model.add(layers.Activation('relu'))\n",
        "\n",
        "    model.add(layers.Flatten())\n",
        "\n",
        "    model.add(layers.Dense(256))\n",
        "    model.add(layers.BatchNormalization())\n",
        "    model.add(layers.Activation('relu'))\n",
        "\n",
        "    model.add(layers.Dense(128))\n",
        "    model.add(layers.BatchNormalization())\n",
        "    model.add(layers.Activation('relu'))\n",
        "\n",
        "    model.add(layers.Dense(64))\n",
        "    model.add(layers.BatchNormalization())\n",
        "    model.add(layers.Activation('relu'))\n",
        "\n",
        "    model.add(layers.Dense(10))\n",
        "    model.add(layers.Activation('softmax'))\n",
        "\n",
        "    return model\n"
      ],
      "metadata": {
        "id": "yE7foWv9rwYL"
      },
      "execution_count": 38,
      "outputs": []
    },
    {
      "cell_type": "code",
      "source": [
        "# Create and compile the model\n",
        "model = create_cnn_model()\n",
        "model.compile(optimizer=tf.keras.optimizers.Adam(learning_rate=0.001),\n",
        "              loss='categorical_crossentropy',\n",
        "              metrics=['categorical_accuracy'])\n"
      ],
      "metadata": {
        "id": "aT9gIcK1sSim"
      },
      "execution_count": 39,
      "outputs": []
    },
    {
      "cell_type": "code",
      "source": [
        "# Train the model\n",
        "history = model.fit(X_traintensor, Y_traintensor,\n",
        "                    batch_size=batchSize,\n",
        "                    epochs=numEpochs,\n",
        "                    verbose=1)"
      ],
      "metadata": {
        "colab": {
          "base_uri": "https://localhost:8080/"
        },
        "id": "issB0M2OsUvP",
        "outputId": "6f8b80a3-cfea-4248-c71c-825f0a6fb497"
      },
      "execution_count": 41,
      "outputs": [
        {
          "output_type": "stream",
          "name": "stdout",
          "text": [
            "Epoch 1/5\n",
            "125/125 [==============================] - 7s 29ms/step - loss: 0.6837 - categorical_accuracy: 0.8200\n",
            "Epoch 2/5\n",
            "125/125 [==============================] - 4s 30ms/step - loss: 0.2341 - categorical_accuracy: 0.9485\n",
            "Epoch 3/5\n",
            "125/125 [==============================] - 5s 36ms/step - loss: 0.1538 - categorical_accuracy: 0.9605\n",
            "Epoch 4/5\n",
            "125/125 [==============================] - 4s 36ms/step - loss: 0.1394 - categorical_accuracy: 0.9645\n",
            "Epoch 5/5\n",
            "125/125 [==============================] - 6s 49ms/step - loss: 0.1120 - categorical_accuracy: 0.9715\n"
          ]
        }
      ]
    },
    {
      "cell_type": "code",
      "source": [
        "# Evaluate the model\n",
        "test_loss, test_acc = model.evaluate(X_testtensor, Y_testtensor, verbose=2)\n",
        "print(f\"Test loss: {test_loss}\")\n",
        "print(f\"Test accuracy: {test_acc}\")"
      ],
      "metadata": {
        "colab": {
          "base_uri": "https://localhost:8080/"
        },
        "id": "uouucmdPs4Hm",
        "outputId": "a0764066-cc52-47f7-fb2b-6bde6206f2bf"
      },
      "execution_count": 42,
      "outputs": [
        {
          "output_type": "stream",
          "name": "stdout",
          "text": [
            "8/8 - 0s - loss: 0.1394 - categorical_accuracy: 0.9560 - 408ms/epoch - 51ms/step\n",
            "Test loss: 0.13939395546913147\n",
            "Test accuracy: 0.9559999704360962\n"
          ]
        }
      ]
    },
    {
      "cell_type": "code",
      "source": [],
      "metadata": {
        "id": "Zw26Hnb8vRVh"
      },
      "execution_count": null,
      "outputs": []
    }
  ]
}