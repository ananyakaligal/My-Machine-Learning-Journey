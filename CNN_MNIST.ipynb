{
  "nbformat": 4,
  "nbformat_minor": 0,
  "metadata": {
    "colab": {
      "provenance": [],
      "authorship_tag": "ABX9TyPCwldEvh7+FoSvBfDfq3gK",
      "include_colab_link": true
    },
    "kernelspec": {
      "name": "python3",
      "display_name": "Python 3"
    },
    "language_info": {
      "name": "python"
    }
  },
  "cells": [
    {
      "cell_type": "markdown",
      "metadata": {
        "id": "view-in-github",
        "colab_type": "text"
      },
      "source": [
        "<a href=\"https://colab.research.google.com/github/ananyakaligal/My-Machine-Learning-Journey/blob/main/CNN_MNIST.ipynb\" target=\"_parent\"><img src=\"https://colab.research.google.com/assets/colab-badge.svg\" alt=\"Open In Colab\"/></a>"
      ]
    },
    {
      "cell_type": "code",
      "execution_count": 1,
      "metadata": {
        "colab": {
          "base_uri": "https://localhost:8080/"
        },
        "id": "KjGgpi5qeCsE",
        "outputId": "a7924a1b-39c4-4b18-8f63-1163d50f282f"
      },
      "outputs": [
        {
          "output_type": "stream",
          "name": "stdout",
          "text": [
            "Requirement already satisfied: tensorflow in /usr/local/lib/python3.10/dist-packages (2.15.0)\n",
            "Requirement already satisfied: absl-py>=1.0.0 in /usr/local/lib/python3.10/dist-packages (from tensorflow) (1.4.0)\n",
            "Requirement already satisfied: astunparse>=1.6.0 in /usr/local/lib/python3.10/dist-packages (from tensorflow) (1.6.3)\n",
            "Requirement already satisfied: flatbuffers>=23.5.26 in /usr/local/lib/python3.10/dist-packages (from tensorflow) (24.3.25)\n",
            "Requirement already satisfied: gast!=0.5.0,!=0.5.1,!=0.5.2,>=0.2.1 in /usr/local/lib/python3.10/dist-packages (from tensorflow) (0.6.0)\n",
            "Requirement already satisfied: google-pasta>=0.1.1 in /usr/local/lib/python3.10/dist-packages (from tensorflow) (0.2.0)\n",
            "Requirement already satisfied: h5py>=2.9.0 in /usr/local/lib/python3.10/dist-packages (from tensorflow) (3.9.0)\n",
            "Requirement already satisfied: libclang>=13.0.0 in /usr/local/lib/python3.10/dist-packages (from tensorflow) (18.1.1)\n",
            "Requirement already satisfied: ml-dtypes~=0.2.0 in /usr/local/lib/python3.10/dist-packages (from tensorflow) (0.2.0)\n",
            "Requirement already satisfied: numpy<2.0.0,>=1.23.5 in /usr/local/lib/python3.10/dist-packages (from tensorflow) (1.25.2)\n",
            "Requirement already satisfied: opt-einsum>=2.3.2 in /usr/local/lib/python3.10/dist-packages (from tensorflow) (3.3.0)\n",
            "Requirement already satisfied: packaging in /usr/local/lib/python3.10/dist-packages (from tensorflow) (24.1)\n",
            "Requirement already satisfied: protobuf!=4.21.0,!=4.21.1,!=4.21.2,!=4.21.3,!=4.21.4,!=4.21.5,<5.0.0dev,>=3.20.3 in /usr/local/lib/python3.10/dist-packages (from tensorflow) (3.20.3)\n",
            "Requirement already satisfied: setuptools in /usr/local/lib/python3.10/dist-packages (from tensorflow) (67.7.2)\n",
            "Requirement already satisfied: six>=1.12.0 in /usr/local/lib/python3.10/dist-packages (from tensorflow) (1.16.0)\n",
            "Requirement already satisfied: termcolor>=1.1.0 in /usr/local/lib/python3.10/dist-packages (from tensorflow) (2.4.0)\n",
            "Requirement already satisfied: typing-extensions>=3.6.6 in /usr/local/lib/python3.10/dist-packages (from tensorflow) (4.12.2)\n",
            "Requirement already satisfied: wrapt<1.15,>=1.11.0 in /usr/local/lib/python3.10/dist-packages (from tensorflow) (1.14.1)\n",
            "Requirement already satisfied: tensorflow-io-gcs-filesystem>=0.23.1 in /usr/local/lib/python3.10/dist-packages (from tensorflow) (0.37.1)\n",
            "Requirement already satisfied: grpcio<2.0,>=1.24.3 in /usr/local/lib/python3.10/dist-packages (from tensorflow) (1.64.1)\n",
            "Requirement already satisfied: tensorboard<2.16,>=2.15 in /usr/local/lib/python3.10/dist-packages (from tensorflow) (2.15.2)\n",
            "Requirement already satisfied: tensorflow-estimator<2.16,>=2.15.0 in /usr/local/lib/python3.10/dist-packages (from tensorflow) (2.15.0)\n",
            "Requirement already satisfied: keras<2.16,>=2.15.0 in /usr/local/lib/python3.10/dist-packages (from tensorflow) (2.15.0)\n",
            "Requirement already satisfied: wheel<1.0,>=0.23.0 in /usr/local/lib/python3.10/dist-packages (from astunparse>=1.6.0->tensorflow) (0.43.0)\n",
            "Requirement already satisfied: google-auth<3,>=1.6.3 in /usr/local/lib/python3.10/dist-packages (from tensorboard<2.16,>=2.15->tensorflow) (2.27.0)\n",
            "Requirement already satisfied: google-auth-oauthlib<2,>=0.5 in /usr/local/lib/python3.10/dist-packages (from tensorboard<2.16,>=2.15->tensorflow) (1.2.1)\n",
            "Requirement already satisfied: markdown>=2.6.8 in /usr/local/lib/python3.10/dist-packages (from tensorboard<2.16,>=2.15->tensorflow) (3.6)\n",
            "Requirement already satisfied: requests<3,>=2.21.0 in /usr/local/lib/python3.10/dist-packages (from tensorboard<2.16,>=2.15->tensorflow) (2.31.0)\n",
            "Requirement already satisfied: tensorboard-data-server<0.8.0,>=0.7.0 in /usr/local/lib/python3.10/dist-packages (from tensorboard<2.16,>=2.15->tensorflow) (0.7.2)\n",
            "Requirement already satisfied: werkzeug>=1.0.1 in /usr/local/lib/python3.10/dist-packages (from tensorboard<2.16,>=2.15->tensorflow) (3.0.3)\n",
            "Requirement already satisfied: cachetools<6.0,>=2.0.0 in /usr/local/lib/python3.10/dist-packages (from google-auth<3,>=1.6.3->tensorboard<2.16,>=2.15->tensorflow) (5.4.0)\n",
            "Requirement already satisfied: pyasn1-modules>=0.2.1 in /usr/local/lib/python3.10/dist-packages (from google-auth<3,>=1.6.3->tensorboard<2.16,>=2.15->tensorflow) (0.4.0)\n",
            "Requirement already satisfied: rsa<5,>=3.1.4 in /usr/local/lib/python3.10/dist-packages (from google-auth<3,>=1.6.3->tensorboard<2.16,>=2.15->tensorflow) (4.9)\n",
            "Requirement already satisfied: requests-oauthlib>=0.7.0 in /usr/local/lib/python3.10/dist-packages (from google-auth-oauthlib<2,>=0.5->tensorboard<2.16,>=2.15->tensorflow) (1.3.1)\n",
            "Requirement already satisfied: charset-normalizer<4,>=2 in /usr/local/lib/python3.10/dist-packages (from requests<3,>=2.21.0->tensorboard<2.16,>=2.15->tensorflow) (3.3.2)\n",
            "Requirement already satisfied: idna<4,>=2.5 in /usr/local/lib/python3.10/dist-packages (from requests<3,>=2.21.0->tensorboard<2.16,>=2.15->tensorflow) (3.7)\n",
            "Requirement already satisfied: urllib3<3,>=1.21.1 in /usr/local/lib/python3.10/dist-packages (from requests<3,>=2.21.0->tensorboard<2.16,>=2.15->tensorflow) (2.0.7)\n",
            "Requirement already satisfied: certifi>=2017.4.17 in /usr/local/lib/python3.10/dist-packages (from requests<3,>=2.21.0->tensorboard<2.16,>=2.15->tensorflow) (2024.7.4)\n",
            "Requirement already satisfied: MarkupSafe>=2.1.1 in /usr/local/lib/python3.10/dist-packages (from werkzeug>=1.0.1->tensorboard<2.16,>=2.15->tensorflow) (2.1.5)\n",
            "Requirement already satisfied: pyasn1<0.7.0,>=0.4.6 in /usr/local/lib/python3.10/dist-packages (from pyasn1-modules>=0.2.1->google-auth<3,>=1.6.3->tensorboard<2.16,>=2.15->tensorflow) (0.6.0)\n",
            "Requirement already satisfied: oauthlib>=3.0.0 in /usr/local/lib/python3.10/dist-packages (from requests-oauthlib>=0.7.0->google-auth-oauthlib<2,>=0.5->tensorboard<2.16,>=2.15->tensorflow) (3.2.2)\n"
          ]
        }
      ],
      "source": [
        "!pip install tensorflow"
      ]
    },
    {
      "cell_type": "code",
      "source": [
        "import tensorflow as tf\n",
        "import numpy as np\n",
        "from tensorflow.keras.utils import to_categorical\n",
        "from tensorflow.keras import layers, models\n",
        "import time"
      ],
      "metadata": {
        "id": "MhDXEFGIeEPh"
      },
      "execution_count": 2,
      "outputs": []
    },
    {
      "cell_type": "code",
      "source": [
        "# Define constants\n",
        "batchSize = 256\n",
        "numEpochs = 5\n",
        "trainToLoss = 0.0001\n",
        "bsr = 1.0  # BatchSizeReduction. 1 = no reduction. 0.25 = reduction to 25% of original.\n",
        "lrr = 1.0"
      ],
      "metadata": {
        "id": "aACaqs9feGP8"
      },
      "execution_count": 3,
      "outputs": []
    },
    {
      "cell_type": "code",
      "source": [
        "def load_mnist(train_samples=None, test_samples=None):\n",
        "    (x_train, y_train), (x_test, y_test) = tf.keras.datasets.mnist.load_data()\n",
        "\n",
        "    # Normalize the pixel values to be between 0 and 1\n",
        "    x_train = x_train.astype('float32') / 255.0\n",
        "    x_test = x_test.astype('float32') / 255.0\n",
        "\n",
        "    # Reshape to add the channel dimension\n",
        "    x_train = x_train.reshape(-1, 28, 28, 1)\n",
        "    x_test = x_test.reshape(-1, 28, 28, 1)\n",
        "\n",
        "    # Convert labels to one-hot encoding\n",
        "    y_train = tf.keras.utils.to_categorical(y_train, num_classes=10)\n",
        "    y_test = tf.keras.utils.to_categorical(y_test, num_classes=10)\n",
        "\n",
        "    if train_samples:\n",
        "        # Randomly sample the training data\n",
        "        indices_train = np.random.choice(len(x_train), train_samples, replace=False)\n",
        "        x_train = x_train[indices_train]\n",
        "        y_train = y_train[indices_train]\n",
        "\n",
        "    if test_samples:\n",
        "        # Randomly sample the testing data\n",
        "        indices_test = np.random.choice(len(x_test), test_samples, replace=False)\n",
        "        x_test = x_test[indices_test]\n",
        "        y_test = y_test[indices_test]\n",
        "\n",
        "    return x_train, y_train, x_test, y_test\n",
        "\n",
        "# Example usage: Load 1000 training samples and 200 test samples\n",
        "x_train, y_train, x_test, y_test = load_mnist(train_samples=10000, test_samples=2000)"
      ],
      "metadata": {
        "colab": {
          "base_uri": "https://localhost:8080/"
        },
        "id": "2axCu7JDeKlu",
        "outputId": "a6e8c5b3-8359-42ff-a927-26e47bb670b2"
      },
      "execution_count": 4,
      "outputs": [
        {
          "output_type": "stream",
          "name": "stdout",
          "text": [
            "Downloading data from https://storage.googleapis.com/tensorflow/tf-keras-datasets/mnist.npz\n",
            "11490434/11490434 [==============================] - 0s 0us/step\n"
          ]
        }
      ]
    },
    {
      "cell_type": "code",
      "source": [
        "# Print the shapes of the datasets\n",
        "print(f\"x_train shape: {x_train.shape}\")\n",
        "print(f\"y_train shape: {y_train.shape}\")\n",
        "print(f\"x_test shape: {x_test.shape}\")\n",
        "print(f\"y_test shape: {y_test.shape}\")"
      ],
      "metadata": {
        "colab": {
          "base_uri": "https://localhost:8080/"
        },
        "id": "133b_221etPk",
        "outputId": "de73b828-16ae-4f19-ffc5-370f0d006fa3"
      },
      "execution_count": 5,
      "outputs": [
        {
          "output_type": "stream",
          "name": "stdout",
          "text": [
            "x_train shape: (10000, 28, 28, 1)\n",
            "y_train shape: (10000, 10)\n",
            "x_test shape: (2000, 28, 28, 1)\n",
            "y_test shape: (2000, 10)\n"
          ]
        }
      ]
    },
    {
      "cell_type": "code",
      "source": [
        "def format_data(data):\n",
        "    indices = []\n",
        "    values = []\n",
        "    batch_size = data.shape[0]\n",
        "    height = data.shape[1]\n",
        "    width = data.shape[2]\n",
        "    channels = data.shape[3] if len(data.shape) > 3 else 1  # Add channel dimension if present\n",
        "\n",
        "    for i in range(batch_size):\n",
        "        for row in range(height):\n",
        "            for col in range(width):\n",
        "                for channel in range(channels):\n",
        "                    indices.append([i, row, col, channel])\n",
        "                    values.append(float(data[i, row, col, channel]))\n",
        "\n",
        "    return np.array(indices), np.array(values)"
      ],
      "metadata": {
        "id": "f5t-xzfte_41"
      },
      "execution_count": 6,
      "outputs": []
    },
    {
      "cell_type": "code",
      "source": [
        "# Formatting data\n",
        "formatted_x_train_indices, formatted_x_train_values = format_data(x_train)\n",
        "formatted_x_test_indices, formatted_x_test_values = format_data(x_test)"
      ],
      "metadata": {
        "id": "NgoE1I0MfHnN"
      },
      "execution_count": 7,
      "outputs": []
    },
    {
      "cell_type": "code",
      "source": [
        "# Check shapes\n",
        "print(\"Shape of formatted_x_train_indices:\", formatted_x_train_indices.shape)\n",
        "print(\"Shape of formatted_x_train_values:\", formatted_x_train_values.shape)"
      ],
      "metadata": {
        "colab": {
          "base_uri": "https://localhost:8080/"
        },
        "id": "lnaiAcKyp-rn",
        "outputId": "5a84ccbe-b1c8-494e-c8ed-026f45ebe14f"
      },
      "execution_count": 8,
      "outputs": [
        {
          "output_type": "stream",
          "name": "stdout",
          "text": [
            "Shape of formatted_x_train_indices: (7840000, 4)\n",
            "Shape of formatted_x_train_values: (7840000,)\n"
          ]
        }
      ]
    },
    {
      "cell_type": "code",
      "source": [
        "# Define a function to print samples of the formatted data\n",
        "def print_sample(indices, values, sample_size=30):\n",
        "    for i in range(sample_size):\n",
        "        print(f\"Indices: {indices[i]}, Value: {values[i]}\")\n",
        "\n",
        "# Print samples\n",
        "print(\"Sample of train_indices and train_values:\")\n",
        "print_sample(formatted_x_train_indices, formatted_x_train_values)"
      ],
      "metadata": {
        "colab": {
          "base_uri": "https://localhost:8080/"
        },
        "id": "OnyYA9wfeeke",
        "outputId": "4e0f8200-7e26-4866-8941-68ff7bd63f79"
      },
      "execution_count": 9,
      "outputs": [
        {
          "output_type": "stream",
          "name": "stdout",
          "text": [
            "Sample of train_indices and train_values:\n",
            "Indices: [0 0 0 0], Value: 0.0\n",
            "Indices: [0 0 1 0], Value: 0.0\n",
            "Indices: [0 0 2 0], Value: 0.0\n",
            "Indices: [0 0 3 0], Value: 0.0\n",
            "Indices: [0 0 4 0], Value: 0.0\n",
            "Indices: [0 0 5 0], Value: 0.0\n",
            "Indices: [0 0 6 0], Value: 0.0\n",
            "Indices: [0 0 7 0], Value: 0.0\n",
            "Indices: [0 0 8 0], Value: 0.0\n",
            "Indices: [0 0 9 0], Value: 0.0\n",
            "Indices: [ 0  0 10  0], Value: 0.0\n",
            "Indices: [ 0  0 11  0], Value: 0.0\n",
            "Indices: [ 0  0 12  0], Value: 0.0\n",
            "Indices: [ 0  0 13  0], Value: 0.0\n",
            "Indices: [ 0  0 14  0], Value: 0.0\n",
            "Indices: [ 0  0 15  0], Value: 0.0\n",
            "Indices: [ 0  0 16  0], Value: 0.0\n",
            "Indices: [ 0  0 17  0], Value: 0.0\n",
            "Indices: [ 0  0 18  0], Value: 0.0\n",
            "Indices: [ 0  0 19  0], Value: 0.0\n",
            "Indices: [ 0  0 20  0], Value: 0.0\n",
            "Indices: [ 0  0 21  0], Value: 0.0\n",
            "Indices: [ 0  0 22  0], Value: 0.0\n",
            "Indices: [ 0  0 23  0], Value: 0.0\n",
            "Indices: [ 0  0 24  0], Value: 0.0\n",
            "Indices: [ 0  0 25  0], Value: 0.0\n",
            "Indices: [ 0  0 26  0], Value: 0.0\n",
            "Indices: [ 0  0 27  0], Value: 0.0\n",
            "Indices: [0 1 0 0], Value: 0.0\n",
            "Indices: [0 1 1 0], Value: 0.0\n"
          ]
        }
      ]
    },
    {
      "cell_type": "code",
      "source": [
        "def create_tensor_from_data(indices, values, shape):\n",
        "    # Convert indices and values to tensors\n",
        "    indices_tensor = tf.constant(indices, dtype=tf.int64)\n",
        "    values_tensor = tf.constant(values, dtype=tf.float32)\n",
        "\n",
        "    # Create sparse tensor\n",
        "    sparse_tensor = tf.sparse.SparseTensor(\n",
        "        indices=indices_tensor,\n",
        "        values=values_tensor,\n",
        "        dense_shape=shape\n",
        "    )\n",
        "\n",
        "    # Convert sparse tensor to dense tensor\n",
        "    dense_tensor = tf.sparse.to_dense(sparse_tensor)\n",
        "    return dense_tensor"
      ],
      "metadata": {
        "id": "zqOU5Lkfq20M"
      },
      "execution_count": 10,
      "outputs": []
    },
    {
      "cell_type": "code",
      "source": [
        "# Create tensors\n",
        "shape_x_train = [10000, 28, 28, 1]  # Shape for x_train\n",
        "x_train_tensor = create_tensor_from_data(formatted_x_train_indices, formatted_x_train_values, shape_x_train)\n"
      ],
      "metadata": {
        "id": "ChQJ2WE8q2dO"
      },
      "execution_count": 11,
      "outputs": []
    },
    {
      "cell_type": "code",
      "source": [
        "# Define a function to extract a sample from the tensor\n",
        "def get_sample_from_tensor(tensor, sample_index):\n",
        "    # Extract a sample by indexing into the tensor\n",
        "    sample = tensor[sample_index]\n",
        "    return sample\n",
        "\n",
        "# Example usage\n",
        "sample_index = 0  # Index of the sample you want to extract\n",
        "sample_tensor = get_sample_from_tensor(x_train_tensor, sample_index)\n",
        "\n",
        "# Print or visualize the sample\n",
        "print(\"Sample Tensor Shape:\", sample_tensor.shape)\n",
        "print(\"Sample Tensor Values (first few pixels):\", sample_tensor.numpy().flatten()[:100])"
      ],
      "metadata": {
        "colab": {
          "base_uri": "https://localhost:8080/"
        },
        "id": "grdpz4F3722F",
        "outputId": "4349c1e5-e381-4c94-f3d0-6dbfc375c54b"
      },
      "execution_count": 12,
      "outputs": [
        {
          "output_type": "stream",
          "name": "stdout",
          "text": [
            "Sample Tensor Shape: (28, 28, 1)\n",
            "Sample Tensor Values (first few pixels): [0. 0. 0. 0. 0. 0. 0. 0. 0. 0. 0. 0. 0. 0. 0. 0. 0. 0. 0. 0. 0. 0. 0. 0.\n",
            " 0. 0. 0. 0. 0. 0. 0. 0. 0. 0. 0. 0. 0. 0. 0. 0. 0. 0. 0. 0. 0. 0. 0. 0.\n",
            " 0. 0. 0. 0. 0. 0. 0. 0. 0. 0. 0. 0. 0. 0. 0. 0. 0. 0. 0. 0. 0. 0. 0. 0.\n",
            " 0. 0. 0. 0. 0. 0. 0. 0. 0. 0. 0. 0. 0. 0. 0. 0. 0. 0. 0. 0. 0. 0. 0. 0.\n",
            " 0. 0. 0. 0.]\n"
          ]
        }
      ]
    },
    {
      "cell_type": "code",
      "source": [
        "def format_labels_one_hot(labels):\n",
        "    indices = []\n",
        "    values = []\n",
        "\n",
        "    num_samples, num_classes = labels.shape\n",
        "\n",
        "    for i in range(num_samples):\n",
        "        one_hot_vector = labels[i]\n",
        "        for j in range(num_classes):\n",
        "            indices.append([i, j])\n",
        "            values.append(float(one_hot_vector[j]))\n",
        "\n",
        "    return np.array(indices), np.array(values)"
      ],
      "metadata": {
        "id": "Uyxu6x3FfVFb"
      },
      "execution_count": 13,
      "outputs": []
    },
    {
      "cell_type": "code",
      "source": [
        "# Assuming y_train and y_test are already one-hot encoded\n",
        "formatted_y_train_indices, formatted_y_train_values = format_labels_one_hot(y_train)\n",
        "formatted_y_test_indices, formatted_y_test_values = format_labels_one_hot(y_test)"
      ],
      "metadata": {
        "id": "FMQTxyDMgHOi"
      },
      "execution_count": 14,
      "outputs": []
    },
    {
      "cell_type": "code",
      "source": [
        "# Print samples\n",
        "print(\"Sample of train_indices and train_values of y :\")\n",
        "print_sample(formatted_y_train_indices, formatted_y_train_values)"
      ],
      "metadata": {
        "colab": {
          "base_uri": "https://localhost:8080/"
        },
        "id": "8A8hojl7gL1-",
        "outputId": "3356b682-953c-4d6f-ae41-2781a1f5e1b3"
      },
      "execution_count": 15,
      "outputs": [
        {
          "output_type": "stream",
          "name": "stdout",
          "text": [
            "Sample of train_indices and train_values of y :\n",
            "Indices: [0 0], Value: 1.0\n",
            "Indices: [0 1], Value: 0.0\n",
            "Indices: [0 2], Value: 0.0\n",
            "Indices: [0 3], Value: 0.0\n",
            "Indices: [0 4], Value: 0.0\n",
            "Indices: [0 5], Value: 0.0\n",
            "Indices: [0 6], Value: 0.0\n",
            "Indices: [0 7], Value: 0.0\n",
            "Indices: [0 8], Value: 0.0\n",
            "Indices: [0 9], Value: 0.0\n",
            "Indices: [1 0], Value: 1.0\n",
            "Indices: [1 1], Value: 0.0\n",
            "Indices: [1 2], Value: 0.0\n",
            "Indices: [1 3], Value: 0.0\n",
            "Indices: [1 4], Value: 0.0\n",
            "Indices: [1 5], Value: 0.0\n",
            "Indices: [1 6], Value: 0.0\n",
            "Indices: [1 7], Value: 0.0\n",
            "Indices: [1 8], Value: 0.0\n",
            "Indices: [1 9], Value: 0.0\n",
            "Indices: [2 0], Value: 0.0\n",
            "Indices: [2 1], Value: 0.0\n",
            "Indices: [2 2], Value: 0.0\n",
            "Indices: [2 3], Value: 0.0\n",
            "Indices: [2 4], Value: 1.0\n",
            "Indices: [2 5], Value: 0.0\n",
            "Indices: [2 6], Value: 0.0\n",
            "Indices: [2 7], Value: 0.0\n",
            "Indices: [2 8], Value: 0.0\n",
            "Indices: [2 9], Value: 0.0\n"
          ]
        }
      ]
    },
    {
      "cell_type": "code",
      "source": [
        "# Print the first 5 samples for verification\n",
        "for i in range(5):\n",
        "    print(f\"Sample {i}:\")\n",
        "    print(f\"Original Label: {np.argmax(y_train[i])}\")  # Prints the original label\n",
        "    print(f\"One-Hot Encoded: {y_train[i]}\")\n",
        "    print()"
      ],
      "metadata": {
        "colab": {
          "base_uri": "https://localhost:8080/"
        },
        "id": "hoO5xv1HgqOh",
        "outputId": "4ef4b418-c0a3-46a4-ff99-7c751893a538"
      },
      "execution_count": 16,
      "outputs": [
        {
          "output_type": "stream",
          "name": "stdout",
          "text": [
            "Sample 0:\n",
            "Original Label: 0\n",
            "One-Hot Encoded: [1. 0. 0. 0. 0. 0. 0. 0. 0. 0.]\n",
            "\n",
            "Sample 1:\n",
            "Original Label: 0\n",
            "One-Hot Encoded: [1. 0. 0. 0. 0. 0. 0. 0. 0. 0.]\n",
            "\n",
            "Sample 2:\n",
            "Original Label: 4\n",
            "One-Hot Encoded: [0. 0. 0. 0. 1. 0. 0. 0. 0. 0.]\n",
            "\n",
            "Sample 3:\n",
            "Original Label: 3\n",
            "One-Hot Encoded: [0. 0. 0. 1. 0. 0. 0. 0. 0. 0.]\n",
            "\n",
            "Sample 4:\n",
            "Original Label: 8\n",
            "One-Hot Encoded: [0. 0. 0. 0. 0. 0. 0. 0. 1. 0.]\n",
            "\n"
          ]
        }
      ]
    },
    {
      "cell_type": "code",
      "source": [
        "def create_tensor_from_labels(indices, values, shape):\n",
        "    # Convert indices and values to tensors\n",
        "    indices_tensor = tf.constant(indices, dtype=tf.int64)\n",
        "    values_tensor = tf.constant(values, dtype=tf.float32)\n",
        "\n",
        "    # Create sparse tensor\n",
        "    sparse_tensor = tf.sparse.SparseTensor(\n",
        "        indices=indices_tensor,\n",
        "        values=values_tensor,\n",
        "        dense_shape=shape\n",
        "    )\n",
        "\n",
        "    # Convert sparse tensor to dense tensor\n",
        "    dense_tensor = tf.sparse.to_dense(sparse_tensor)\n",
        "    return dense_tensor"
      ],
      "metadata": {
        "id": "ZUNEoD56osmt"
      },
      "execution_count": 17,
      "outputs": []
    },
    {
      "cell_type": "code",
      "source": [
        "# Assuming y_train is already one-hot encoded\n",
        "formatted_y_train_indices, formatted_y_train_values = format_labels_one_hot(y_train)\n",
        "\n",
        "# Define the shape for the dense tensor\n",
        "shape_y_train = [y_train.shape[0], y_train.shape[1]]  # [num_samples, num_classes]\n",
        "\n",
        "# Create tensor\n",
        "y_train_tensor = create_tensor_from_labels(formatted_y_train_indices, formatted_y_train_values, shape_y_train)\n"
      ],
      "metadata": {
        "id": "w7aWOCbyrmX4"
      },
      "execution_count": 18,
      "outputs": []
    },
    {
      "cell_type": "code",
      "source": [
        "# Print tensor shape\n",
        "print(\"Shape of y_train_tensor:\", y_train_tensor.shape)"
      ],
      "metadata": {
        "colab": {
          "base_uri": "https://localhost:8080/"
        },
        "id": "s4sINjRwrre_",
        "outputId": "069f7380-ed9a-47e6-d8da-74a525811f59"
      },
      "execution_count": 19,
      "outputs": [
        {
          "output_type": "stream",
          "name": "stdout",
          "text": [
            "Shape of y_train_tensor: (10000, 10)\n"
          ]
        }
      ]
    },
    {
      "cell_type": "code",
      "source": [
        "# Print tensor shape\n",
        "print(\"Shape of x_train_tensor:\", x_train_tensor.shape)"
      ],
      "metadata": {
        "colab": {
          "base_uri": "https://localhost:8080/"
        },
        "id": "GZmfNgrzrtMX",
        "outputId": "40c3b1b1-e763-4805-858a-1f23905dd206"
      },
      "execution_count": 20,
      "outputs": [
        {
          "output_type": "stream",
          "name": "stdout",
          "text": [
            "Shape of x_train_tensor: (10000, 28, 28, 1)\n"
          ]
        }
      ]
    },
    {
      "cell_type": "code",
      "source": [
        "# Define the CNN model\n",
        "def create_cnn_model():\n",
        "    model = models.Sequential()\n",
        "\n",
        "    # Add layers according to the provided architecture\n",
        "    model.add(layers.Conv2D(32, (3, 3), input_shape=(28, 28, 1)))\n",
        "    model.add(layers.BatchNormalization())\n",
        "    model.add(layers.Activation('relu'))\n",
        "    model.add(layers.MaxPooling2D(pool_size=(2, 2)))\n",
        "\n",
        "    model.add(layers.Conv2D(64, (3, 3)))\n",
        "    model.add(layers.BatchNormalization())\n",
        "    model.add(layers.Activation('relu'))\n",
        "    model.add(layers.MaxPooling2D(pool_size=(2, 2)))\n",
        "\n",
        "    model.add(layers.Conv2D(128, (3, 3)))\n",
        "    model.add(layers.BatchNormalization())\n",
        "    model.add(layers.Activation('relu'))\n",
        "\n",
        "    model.add(layers.Flatten())\n",
        "\n",
        "    model.add(layers.Dense(256))\n",
        "    model.add(layers.BatchNormalization())\n",
        "    model.add(layers.Activation('relu'))\n",
        "\n",
        "    model.add(layers.Dense(128))\n",
        "    model.add(layers.BatchNormalization())\n",
        "    model.add(layers.Activation('relu'))\n",
        "\n",
        "    model.add(layers.Dense(64))\n",
        "    model.add(layers.BatchNormalization())\n",
        "    model.add(layers.Activation('relu'))\n",
        "\n",
        "    model.add(layers.Dense(10))\n",
        "    model.add(layers.Activation('softmax'))\n",
        "\n",
        "    return model\n"
      ],
      "metadata": {
        "id": "yE7foWv9rwYL"
      },
      "execution_count": 21,
      "outputs": []
    },
    {
      "cell_type": "code",
      "source": [
        "# Create and compile the model\n",
        "model = create_cnn_model()\n",
        "model.compile(optimizer=tf.keras.optimizers.Adam(learning_rate=0.001),\n",
        "              loss='categorical_crossentropy',\n",
        "              metrics=['categorical_accuracy'])\n"
      ],
      "metadata": {
        "id": "aT9gIcK1sSim"
      },
      "execution_count": 22,
      "outputs": []
    },
    {
      "cell_type": "code",
      "source": [
        "# Train the model\n",
        "history = model.fit(x_train, y_train,\n",
        "                    batch_size=batchSize,\n",
        "                    epochs=numEpochs,\n",
        "                    verbose=1)"
      ],
      "metadata": {
        "colab": {
          "base_uri": "https://localhost:8080/"
        },
        "id": "issB0M2OsUvP",
        "outputId": "c1f4d6ac-53d7-4738-8be4-bc9930d0e633"
      },
      "execution_count": 23,
      "outputs": [
        {
          "output_type": "stream",
          "name": "stdout",
          "text": [
            "Epoch 1/5\n",
            "40/40 [==============================] - 16s 310ms/step - loss: 0.5182 - categorical_accuracy: 0.8754\n",
            "Epoch 2/5\n",
            "40/40 [==============================] - 14s 347ms/step - loss: 0.1225 - categorical_accuracy: 0.9742\n",
            "Epoch 3/5\n",
            "40/40 [==============================] - 12s 305ms/step - loss: 0.0687 - categorical_accuracy: 0.9872\n",
            "Epoch 4/5\n",
            "40/40 [==============================] - 12s 306ms/step - loss: 0.0325 - categorical_accuracy: 0.9969\n",
            "Epoch 5/5\n",
            "40/40 [==============================] - 11s 283ms/step - loss: 0.0395 - categorical_accuracy: 0.9938\n"
          ]
        }
      ]
    },
    {
      "cell_type": "code",
      "source": [
        "# Evaluate the model\n",
        "test_loss, test_acc = model.evaluate(x_test, y_test, verbose=2)\n",
        "print(f\"Test loss: {test_loss}\")\n",
        "print(f\"Test accuracy: {test_acc}\")"
      ],
      "metadata": {
        "colab": {
          "base_uri": "https://localhost:8080/"
        },
        "id": "uouucmdPs4Hm",
        "outputId": "ac798d1c-28c1-4057-f608-1940dcae54b1"
      },
      "execution_count": 24,
      "outputs": [
        {
          "output_type": "stream",
          "name": "stdout",
          "text": [
            "63/63 - 1s - loss: 4.7933 - categorical_accuracy: 0.1020 - 1s/epoch - 17ms/step\n",
            "Test loss: 4.793262481689453\n",
            "Test accuracy: 0.10199999809265137\n"
          ]
        }
      ]
    },
    {
      "cell_type": "code",
      "source": [],
      "metadata": {
        "id": "Zw26Hnb8vRVh"
      },
      "execution_count": null,
      "outputs": []
    }
  ]
}